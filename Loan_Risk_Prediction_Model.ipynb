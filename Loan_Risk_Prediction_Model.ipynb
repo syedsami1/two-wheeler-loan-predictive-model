{
  "nbformat": 4,
  "nbformat_minor": 0,
  "metadata": {
    "colab": {
      "provenance": []
    },
    "kernelspec": {
      "name": "python3",
      "display_name": "Python 3"
    },
    "language_info": {
      "name": "python"
    }
  },
  "cells": [
    {
      "cell_type": "markdown",
      "source": [
        "**1. Import Libraries**"
      ],
      "metadata": {
        "id": "FgEwTCougIuf"
      }
    },
    {
      "cell_type": "code",
      "execution_count": 3,
      "metadata": {
        "id": "AwG7OM3sXhBR"
      },
      "outputs": [],
      "source": [
        "import pandas as pd\n",
        "import numpy as np\n",
        "from sklearn.preprocessing import OneHotEncoder, StandardScaler\n",
        "from sklearn.compose import ColumnTransformer\n",
        "from sklearn.pipeline import Pipeline\n",
        "from sklearn.impute import SimpleImputer\n",
        "from sklearn.ensemble import RandomForestClassifier\n",
        "from sklearn.model_selection import train_test_split\n",
        "from sklearn.metrics import accuracy_score, classification_report, confusion_matrix\n",
        "import matplotlib.pyplot as plt\n",
        "import seaborn as sns\n"
      ]
    },
    {
      "cell_type": "markdown",
      "source": [
        "**2. Load Datasets**"
      ],
      "metadata": {
        "id": "yikGdf3CgP2s"
      }
    },
    {
      "cell_type": "code",
      "source": [
        "# Load datasets\n",
        "train_data = pd.read_csv('/content/Assignment_Train.csv')\n",
        "test_data = pd.read_csv('/content/Assignment_Test.csv')\n",
        "feature_dict = pd.read_excel('/content/Assignment_FeatureDictionary.xlsx')\n",
        "\n",
        "# Display the first few rows of each dataset\n",
        "print(train_data.head())\n",
        "print(test_data.head())\n",
        "print(feature_dict.head())\n"
      ],
      "metadata": {
        "colab": {
          "base_uri": "https://localhost:8080/"
        },
        "id": "U2is2K9oX44n",
        "outputId": "d239c920-3915-4405-bba7-07ba51089fc4"
      },
      "execution_count": 4,
      "outputs": [
        {
          "output_type": "stream",
          "name": "stdout",
          "text": [
            "   DEALER ID APPLICATION LOGIN DATE HDB BRANCH NAME HDB BRANCH STATE  \\\n",
            "0     106989             07/20/2022        DELHI-SF            DELHI   \n",
            "1     108975             07/28/2022        PATNA-SF            BIHAR   \n",
            "2     111004             07/15/2022   DARJEELING-SF      WEST BENGAL   \n",
            "3     192020               07/04/22   SAHARANPUR-SF    UTTAR PRADESH   \n",
            "4      55095             07/15/2022       MODASA-SF          GUJARAT   \n",
            "\n",
            "  FIRST NAME MIDDLE NAME  LAST NAME      mobile AADHAR VERIFIED Cibil Score  \\\n",
            "0      SUNIL         NaN    CHANDER  9210574080              NO         726   \n",
            "1      AMRIT         NaN      KUMAR  8877987018              NO         NaN   \n",
            "2    ANIMESH         NaN      THAPA  8910862135              NO         737   \n",
            "3     ADITYA         NaN      SINGH  9758428017              NO         713   \n",
            "4     PARMAR  HARESHBHAI  AMRUTBHAI  9687028486              NO         669   \n",
            "\n",
            "   ...  Phone Social Premium.shaadi Phone Social Premium.skype  \\\n",
            "0  ...                          0.0                        0.0   \n",
            "1  ...                          0.0                        0.0   \n",
            "2  ...                          0.0                        0.0   \n",
            "3  ...                          0.0                        0.0   \n",
            "4  ...                          0.0                        0.0   \n",
            "\n",
            "   Phone Social Premium.toi Phone Social Premium.whatsapp  \\\n",
            "0                       1.0                           NaN   \n",
            "1                       0.0                           NaN   \n",
            "2                       0.0                           NaN   \n",
            "3                       1.0                           NaN   \n",
            "4                       1.0                           NaN   \n",
            "\n",
            "   Phone Social Premium.yatra  Phone Social Premium.zoho phone_digitalage  \\\n",
            "0                         NaN                        0.0           5324.0   \n",
            "1                         NaN                        0.0           1998.0   \n",
            "2                         NaN                        0.0             -1.0   \n",
            "3                         NaN                        0.0           1998.0   \n",
            "4                         NaN                        0.0           1998.0   \n",
            "\n",
            "  phone_nameMatchScore phone_phoneFootprintStrengthOverall Application Status  \n",
            "0            67.222222                                High           APPROVED  \n",
            "1           100.000000                                High           APPROVED  \n",
            "2            -1.000000                                 Low           APPROVED  \n",
            "3            72.777778                                High           APPROVED  \n",
            "4            68.095238                                High           DECLINED  \n",
            "\n",
            "[5 rows x 55 columns]\n",
            "                   UID  DEALER ID APPLICATION LOGIN DATE HDB BRANCH NAME  \\\n",
            "0  1844045271814558464     105615               07/12/22        HUBLI-SF   \n",
            "1  1840349097823778816      91593             07/14/2022        SATNA-SF   \n",
            "2  1488102613362294272      74152               07/07/22      LUCKNOW-SF   \n",
            "3   555529923942874624     110164             07/13/2022       KOLLAM-SF   \n",
            "4  1010213070486150912     113037               07/08/22         PURI-SF   \n",
            "\n",
            "  HDB BRANCH STATE FIRST NAME MIDDLE NAME   LAST NAME      mobile  \\\n",
            "0              NaN  VENUGOPAL           H  BHARADHVAJ  7019759674   \n",
            "1   MADHYA PRADESH   SHIVDHAR         NaN   CHAUDHARY  7697884828   \n",
            "2    UTTAR PRADESH     MANISH         NaN       VERMA  8840079825   \n",
            "3           KERALA      DEEPU  RAVEENDRAN  RAVEENDRAN  8089276854   \n",
            "4           ORISSA     AKASHA         NaN     PRADHAN  9337511958   \n",
            "\n",
            "  AADHAR VERIFIED  ... Phone Social Premium.rummycircle  \\\n",
            "0              NO  ...                              NaN   \n",
            "1              NO  ...                              NaN   \n",
            "2              NO  ...                              NaN   \n",
            "3              NO  ...                              NaN   \n",
            "4              NO  ...                              NaN   \n",
            "\n",
            "   Phone Social Premium.shaadi Phone Social Premium.skype  \\\n",
            "0                          0.0                        0.0   \n",
            "1                          0.0                        0.0   \n",
            "2                          0.0                        1.0   \n",
            "3                          0.0                        0.0   \n",
            "4                          0.0                        0.0   \n",
            "\n",
            "   Phone Social Premium.toi Phone Social Premium.whatsapp  \\\n",
            "0                       0.0                           0.0   \n",
            "1                       NaN                           0.0   \n",
            "2                       0.0                           1.0   \n",
            "3                       0.0                           NaN   \n",
            "4                       0.0                           NaN   \n",
            "\n",
            "   Phone Social Premium.yatra  Phone Social Premium.zoho phone_digitalage  \\\n",
            "0                         NaN                        0.0              676   \n",
            "1                         NaN                        0.0              897   \n",
            "2                         NaN                        0.0              839   \n",
            "3                         NaN                        0.0             2050   \n",
            "4                         NaN                        0.0               -1   \n",
            "\n",
            "  phone_nameMatchScore phone_phoneFootprintStrengthOverall  \n",
            "0                100.0                              Medium  \n",
            "1                 -1.0                                 Low  \n",
            "2                100.0                              Medium  \n",
            "3                 -1.0                                 Low  \n",
            "4                 -1.0                            Very Low  \n",
            "\n",
            "[5 rows x 55 columns]\n",
            "              COLUMN NAME                 COLUMN DESCRIPTION\n",
            "0               DEALER ID    Unique identifier of the dealer\n",
            "1  APPLICATION LOGIN DATE  Date of submission of application\n",
            "2         HDB BRANCH NAME                Bank branch details\n",
            "3        HDB BRANCH STATE                                NaN\n",
            "4              FIRST NAME                  Submitted Details\n"
          ]
        }
      ]
    },
    {
      "cell_type": "markdown",
      "source": [
        "**3. Prepare Data**"
      ],
      "metadata": {
        "id": "OBEYF6fegUtJ"
      }
    },
    {
      "cell_type": "code",
      "source": [
        "# Separate features and target variable\n",
        "X_train = train_data.drop(columns=['Application Status'])\n",
        "y_train = train_data['Application Status']\n",
        "X_test = test_data.drop(columns=['UID'])\n"
      ],
      "metadata": {
        "id": "DDYMkhRrYu-E"
      },
      "execution_count": 5,
      "outputs": []
    },
    {
      "cell_type": "markdown",
      "source": [
        "**4. Identify Numeric and Categorical Columns**"
      ],
      "metadata": {
        "id": "uUpeW0w-ge60"
      }
    },
    {
      "cell_type": "code",
      "source": [
        "# Identify numeric and categorical columns\n",
        "numeric_columns = X_train.select_dtypes(include=[np.number]).columns\n",
        "categorical_columns = X_train.select_dtypes(include=['object']).columns\n"
      ],
      "metadata": {
        "id": "qitLTwTsgk3U"
      },
      "execution_count": 6,
      "outputs": []
    },
    {
      "cell_type": "markdown",
      "source": [
        "**5. Create Preprocessing Pipelines**"
      ],
      "metadata": {
        "id": "YzjPwJMKgprG"
      }
    },
    {
      "cell_type": "code",
      "source": [
        "#Numeric Data Pipeline\n",
        "numeric_pipeline = Pipeline([\n",
        "    ('imputer', SimpleImputer(strategy='median')),\n",
        "    ('scaler', StandardScaler())\n",
        "])\n",
        "\n",
        "#Categorical Data Pipeline\n",
        "categorical_pipeline = Pipeline([\n",
        "    ('imputer', SimpleImputer(strategy='most_frequent')),\n",
        "    ('onehot', OneHotEncoder(handle_unknown='ignore', sparse=False))\n",
        "])\n",
        "\n"
      ],
      "metadata": {
        "id": "PjhXDjZ0gudd"
      },
      "execution_count": 7,
      "outputs": []
    },
    {
      "cell_type": "markdown",
      "source": [
        "**6. Combine Pipelines Using ColumnTransformer**"
      ],
      "metadata": {
        "id": "AGPk-ppphHyi"
      }
    },
    {
      "cell_type": "code",
      "source": [
        "# Combine pipelines using ColumnTransformer\n",
        "preprocessor = ColumnTransformer([\n",
        "    ('num', numeric_pipeline, numeric_columns),\n",
        "    ('cat', categorical_pipeline, categorical_columns)\n",
        "])\n"
      ],
      "metadata": {
        "id": "m9sB0GLJhSVx"
      },
      "execution_count": 8,
      "outputs": []
    },
    {
      "cell_type": "markdown",
      "source": [
        "**7. Fit and Transform Data**"
      ],
      "metadata": {
        "id": "-_Rzq4EahW59"
      }
    },
    {
      "cell_type": "code",
      "source": [
        "# Fit and transform training data\n",
        "X_train_processed = preprocessor.fit_transform(X_train)\n",
        "X_test_processed = preprocessor.transform(X_test)\n"
      ],
      "metadata": {
        "colab": {
          "base_uri": "https://localhost:8080/"
        },
        "id": "d9gsqb4bhg0D",
        "outputId": "1c99363b-0597-473f-826c-12e12fd9683a"
      },
      "execution_count": 9,
      "outputs": [
        {
          "output_type": "stream",
          "name": "stderr",
          "text": [
            "/usr/local/lib/python3.10/dist-packages/sklearn/preprocessing/_encoders.py:975: FutureWarning: `sparse` was renamed to `sparse_output` in version 1.2 and will be removed in 1.4. `sparse_output` is ignored unless you leave `sparse` to its default value.\n",
            "  warnings.warn(\n"
          ]
        }
      ]
    },
    {
      "cell_type": "markdown",
      "source": [
        "**8. Split Data for Validation**"
      ],
      "metadata": {
        "id": "fseV50GPhi_v"
      }
    },
    {
      "cell_type": "code",
      "source": [
        "# Split training data for validation\n",
        "X_train_split, X_val_split, y_train_split, y_val_split = train_test_split(\n",
        "    X_train_processed, y_train, test_size=0.2, random_state=42\n",
        ")\n"
      ],
      "metadata": {
        "id": "DzYgEysVhpwx"
      },
      "execution_count": 10,
      "outputs": []
    },
    {
      "cell_type": "markdown",
      "source": [
        "**9. Train the Model**"
      ],
      "metadata": {
        "id": "nrx-yyy4hw3s"
      }
    },
    {
      "cell_type": "code",
      "source": [
        "# Train model\n",
        "model = RandomForestClassifier(n_estimators=100, random_state=42)\n",
        "model.fit(X_train_split, y_train_split)\n"
      ],
      "metadata": {
        "colab": {
          "base_uri": "https://localhost:8080/",
          "height": 74
        },
        "id": "ZVxJiRL6h2Ai",
        "outputId": "8afd1449-491c-479f-fdc9-40d2fc02708e"
      },
      "execution_count": 11,
      "outputs": [
        {
          "output_type": "execute_result",
          "data": {
            "text/plain": [
              "RandomForestClassifier(random_state=42)"
            ],
            "text/html": [
              "<style>#sk-container-id-1 {color: black;}#sk-container-id-1 pre{padding: 0;}#sk-container-id-1 div.sk-toggleable {background-color: white;}#sk-container-id-1 label.sk-toggleable__label {cursor: pointer;display: block;width: 100%;margin-bottom: 0;padding: 0.3em;box-sizing: border-box;text-align: center;}#sk-container-id-1 label.sk-toggleable__label-arrow:before {content: \"▸\";float: left;margin-right: 0.25em;color: #696969;}#sk-container-id-1 label.sk-toggleable__label-arrow:hover:before {color: black;}#sk-container-id-1 div.sk-estimator:hover label.sk-toggleable__label-arrow:before {color: black;}#sk-container-id-1 div.sk-toggleable__content {max-height: 0;max-width: 0;overflow: hidden;text-align: left;background-color: #f0f8ff;}#sk-container-id-1 div.sk-toggleable__content pre {margin: 0.2em;color: black;border-radius: 0.25em;background-color: #f0f8ff;}#sk-container-id-1 input.sk-toggleable__control:checked~div.sk-toggleable__content {max-height: 200px;max-width: 100%;overflow: auto;}#sk-container-id-1 input.sk-toggleable__control:checked~label.sk-toggleable__label-arrow:before {content: \"▾\";}#sk-container-id-1 div.sk-estimator input.sk-toggleable__control:checked~label.sk-toggleable__label {background-color: #d4ebff;}#sk-container-id-1 div.sk-label input.sk-toggleable__control:checked~label.sk-toggleable__label {background-color: #d4ebff;}#sk-container-id-1 input.sk-hidden--visually {border: 0;clip: rect(1px 1px 1px 1px);clip: rect(1px, 1px, 1px, 1px);height: 1px;margin: -1px;overflow: hidden;padding: 0;position: absolute;width: 1px;}#sk-container-id-1 div.sk-estimator {font-family: monospace;background-color: #f0f8ff;border: 1px dotted black;border-radius: 0.25em;box-sizing: border-box;margin-bottom: 0.5em;}#sk-container-id-1 div.sk-estimator:hover {background-color: #d4ebff;}#sk-container-id-1 div.sk-parallel-item::after {content: \"\";width: 100%;border-bottom: 1px solid gray;flex-grow: 1;}#sk-container-id-1 div.sk-label:hover label.sk-toggleable__label {background-color: #d4ebff;}#sk-container-id-1 div.sk-serial::before {content: \"\";position: absolute;border-left: 1px solid gray;box-sizing: border-box;top: 0;bottom: 0;left: 50%;z-index: 0;}#sk-container-id-1 div.sk-serial {display: flex;flex-direction: column;align-items: center;background-color: white;padding-right: 0.2em;padding-left: 0.2em;position: relative;}#sk-container-id-1 div.sk-item {position: relative;z-index: 1;}#sk-container-id-1 div.sk-parallel {display: flex;align-items: stretch;justify-content: center;background-color: white;position: relative;}#sk-container-id-1 div.sk-item::before, #sk-container-id-1 div.sk-parallel-item::before {content: \"\";position: absolute;border-left: 1px solid gray;box-sizing: border-box;top: 0;bottom: 0;left: 50%;z-index: -1;}#sk-container-id-1 div.sk-parallel-item {display: flex;flex-direction: column;z-index: 1;position: relative;background-color: white;}#sk-container-id-1 div.sk-parallel-item:first-child::after {align-self: flex-end;width: 50%;}#sk-container-id-1 div.sk-parallel-item:last-child::after {align-self: flex-start;width: 50%;}#sk-container-id-1 div.sk-parallel-item:only-child::after {width: 0;}#sk-container-id-1 div.sk-dashed-wrapped {border: 1px dashed gray;margin: 0 0.4em 0.5em 0.4em;box-sizing: border-box;padding-bottom: 0.4em;background-color: white;}#sk-container-id-1 div.sk-label label {font-family: monospace;font-weight: bold;display: inline-block;line-height: 1.2em;}#sk-container-id-1 div.sk-label-container {text-align: center;}#sk-container-id-1 div.sk-container {/* jupyter's `normalize.less` sets `[hidden] { display: none; }` but bootstrap.min.css set `[hidden] { display: none !important; }` so we also need the `!important` here to be able to override the default hidden behavior on the sphinx rendered scikit-learn.org. See: https://github.com/scikit-learn/scikit-learn/issues/21755 */display: inline-block !important;position: relative;}#sk-container-id-1 div.sk-text-repr-fallback {display: none;}</style><div id=\"sk-container-id-1\" class=\"sk-top-container\"><div class=\"sk-text-repr-fallback\"><pre>RandomForestClassifier(random_state=42)</pre><b>In a Jupyter environment, please rerun this cell to show the HTML representation or trust the notebook. <br />On GitHub, the HTML representation is unable to render, please try loading this page with nbviewer.org.</b></div><div class=\"sk-container\" hidden><div class=\"sk-item\"><div class=\"sk-estimator sk-toggleable\"><input class=\"sk-toggleable__control sk-hidden--visually\" id=\"sk-estimator-id-1\" type=\"checkbox\" checked><label for=\"sk-estimator-id-1\" class=\"sk-toggleable__label sk-toggleable__label-arrow\">RandomForestClassifier</label><div class=\"sk-toggleable__content\"><pre>RandomForestClassifier(random_state=42)</pre></div></div></div></div></div>"
            ]
          },
          "metadata": {},
          "execution_count": 11
        }
      ]
    },
    {
      "cell_type": "markdown",
      "source": [
        "**10. Evaluate the Model**"
      ],
      "metadata": {
        "id": "rkYSHewvh4K3"
      }
    },
    {
      "cell_type": "code",
      "source": [
        "# Evaluate model\n",
        "y_val_pred = model.predict(X_val_split)\n",
        "print(\"Accuracy Score:\", accuracy_score(y_val_split, y_val_pred))\n",
        "print(\"Classification Report:\\n\", classification_report(y_val_split, y_val_pred))\n",
        "print(\"Confusion Matrix:\\n\", confusion_matrix(y_val_split, y_val_pred))\n",
        "\n",
        "# Plot Confusion Matrix\n",
        "sns.heatmap(confusion_matrix(y_val_split, y_val_pred), annot=True, fmt='d', cmap='Blues')\n",
        "plt.xlabel('Predicted')\n",
        "plt.ylabel('Actual')\n",
        "plt.show()\n"
      ],
      "metadata": {
        "colab": {
          "base_uri": "https://localhost:8080/",
          "height": 704
        },
        "id": "F9zlaqHVh-4B",
        "outputId": "a6c73b01-11f4-48d8-ea48-08facdeb506a"
      },
      "execution_count": 12,
      "outputs": [
        {
          "output_type": "stream",
          "name": "stdout",
          "text": [
            "Accuracy Score: 0.8495\n",
            "Classification Report:\n",
            "               precision    recall  f1-score   support\n",
            "\n",
            "    APPROVED       0.94      0.83      0.88      1327\n",
            "    DECLINED       0.72      0.89      0.80       673\n",
            "\n",
            "    accuracy                           0.85      2000\n",
            "   macro avg       0.83      0.86      0.84      2000\n",
            "weighted avg       0.87      0.85      0.85      2000\n",
            "\n",
            "Confusion Matrix:\n",
            " [[1098  229]\n",
            " [  72  601]]\n"
          ]
        },
        {
          "output_type": "display_data",
          "data": {
            "text/plain": [
              "<Figure size 640x480 with 2 Axes>"
            ],
            "image/png": "[encoded data removed]"
          },
          "metadata": {}
        }
      ]
    },
    {
      "cell_type": "markdown",
      "source": [
        "**11. Predict on Test Data and Create Submission File**"
      ],
      "metadata": {
        "id": "BdTMMtoDiGF5"
      }
    },
    {
      "cell_type": "code",
      "source": [
        "# Predict on test data\n",
        "test_predictions = model.predict(X_test_processed)\n",
        "\n",
        "# Create submission file\n",
        "submission = pd.DataFrame({\n",
        "    'UID': test_data['UID'],\n",
        "    'Prediction': test_predictions\n",
        "})\n",
        "\n",
        "submission.to_csv('predictions.csv', index=False)\n"
      ],
      "metadata": {
        "id": "XSeNcZmviFno"
      },
      "execution_count": 13,
      "outputs": []
    }
  ]
}